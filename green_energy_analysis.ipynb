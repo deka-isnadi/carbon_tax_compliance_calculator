{
 "cells": [
  {
   "cell_type": "code",
   "execution_count": 1,
   "id": "272f5dc3",
   "metadata": {},
   "outputs": [
    {
     "name": "stdout",
     "output_type": "stream",
     "text": [
      "Hi! Green Energy Project 2025 is initiated\n"
     ]
    }
   ],
   "source": [
    "print(\"Hi! Green Energy Project 2025 is initiated\")"
   ]
  },
  {
   "cell_type": "markdown",
   "id": "641ad032",
   "metadata": {},
   "source": [
    "## Querry 1: Carbon Tax Compliance Check \n",
    "# Description \n",
    "#### Goal: It checks wether Emission producen by Company exceed limit of Carbon Tax (500 Tonnes CO2)\n",
    "##### Concept:  if-else, Pandas for reading CSV\n",
    "###### Output : Tax Status (obligated or not ) for every company\n"
   ]
  },
  {
   "cell_type": "code",
   "execution_count": 2,
   "id": "ef32e968",
   "metadata": {},
   "outputs": [],
   "source": [
    "# Import Pandas to manage CSV data\n",
    "import pandas as pd"
   ]
  },
  {
   "cell_type": "code",
   "execution_count": 3,
   "id": "98621a24",
   "metadata": {},
   "outputs": [
    {
     "name": "stdout",
     "output_type": "stream",
     "text": [
      "PT_Textilindo was OBLIGATED to Carbon Tax because of the 62.5 Tonnes Emission of Carbon\n",
      "PT_Semindo was FREE from Carbon Tax because of the 45.8 Tonnes Emisson of Carbon\n",
      "PT_EnergiJaya was OBLIGATED to Carbon Tax because of the 78.2 Tonnes Emission of Carbon\n",
      "PT_Pulpindo was OBLIGATED to Carbon Tax because of the 55.0 Tonnes Emission of Carbon\n",
      "PT_AgroMakmur was FREE from Carbon Tax because of the 42.3 Tonnes Emisson of Carbon\n",
      "PT_BajaSentosa was OBLIGATED to Carbon Tax because of the 68.7 Tonnes Emission of Carbon\n",
      "PT_KimiaFarindo was FREE from Carbon Tax because of the 49.1 Tonnes Emisson of Carbon\n",
      "PT_MiningCo was OBLIGATED to Carbon Tax because of the 82.4 Tonnes Emission of Carbon\n",
      "PT_PetroJaya was OBLIGATED to Carbon Tax because of the 60.9 Tonnes Emission of Carbon\n",
      "PT_SinarLogam was OBLIGATED to Carbon Tax because of the 53.6 Tonnes Emission of Carbon\n",
      "PT_IndoPlastik was FREE from Carbon Tax because of the 47.2 Tonnes Emisson of Carbon\n",
      "PT_BumiEnergi was OBLIGATED to Carbon Tax because of the 75.3 Tonnes Emission of Carbon\n",
      "PT_TextilMakmur was OBLIGATED to Carbon Tax because of the 64.8 Tonnes Emission of Carbon\n",
      "PT_SemenBerkah was FREE from Carbon Tax because of the 43.5 Tonnes Emisson of Carbon\n",
      "PT_KertasJaya was OBLIGATED to Carbon Tax because of the 58.9 Tonnes Emission of Carbon\n",
      "PT_AgroSentosa was FREE from Carbon Tax because of the 41.7 Tonnes Emisson of Carbon\n",
      "PT_BajaIndo was OBLIGATED to Carbon Tax because of the 70.2 Tonnes Emission of Carbon\n",
      "PT_KimiaJaya was FREE from Carbon Tax because of the 48.4 Tonnes Emisson of Carbon\n",
      "PT_TambangMakmur was OBLIGATED to Carbon Tax because of the 80.6 Tonnes Emission of Carbon\n",
      "PT_PetroMakmur was OBLIGATED to Carbon Tax because of the 63.1 Tonnes Emission of Carbon\n",
      "PT_LogamBerkah was OBLIGATED to Carbon Tax because of the 54.3 Tonnes Emission of Carbon\n",
      "PT_PlastikJaya was FREE from Carbon Tax because of the 46.9 Tonnes Emisson of Carbon\n",
      "PT_EnergiMakmur was OBLIGATED to Carbon Tax because of the 77.8 Tonnes Emission of Carbon\n",
      "PT_TextilBerkah was OBLIGATED to Carbon Tax because of the 66.4 Tonnes Emission of Carbon\n",
      "PT_SemenJaya was FREE from Carbon Tax because of the 44.2 Tonnes Emisson of Carbon\n",
      "PT_KertasMakmur was OBLIGATED to Carbon Tax because of the 57.5 Tonnes Emission of Carbon\n",
      "PT_AgroBerkah was FREE from Carbon Tax because of the 40.8 Tonnes Emisson of Carbon\n",
      "PT_BajaMakmur was OBLIGATED to Carbon Tax because of the 72.1 Tonnes Emission of Carbon\n",
      "PT_KimiaMakmur was OBLIGATED to Carbon Tax because of the 50.3 Tonnes Emission of Carbon\n",
      "PT_TambangJaya was OBLIGATED to Carbon Tax because of the 85.7 Tonnes Emission of Carbon\n"
     ]
    }
   ],
   "source": [
    "# according to Government Regulation, Emission >50 Tonnes --> pay carbon tax\n",
    "# read CSV File \n",
    "df = pd.read_csv('/Users/deka/GreenEnergy2025/emisi_perusahaan.csv')\n",
    "limit = 50\n",
    "\n",
    "# iteration every line in dataframe to check emission \n",
    "for index, row in df.iterrows():\n",
    "    #the value of emission from Emisi_2024 Column\n",
    "    emission = row['Emisi_2024'] \n",
    "    company = row['Nama_Perusahaan']\n",
    "    # Check if emission  exceed limit by government regulation\n",
    "    if emission > limit:\n",
    "        print(f\"{company} was OBLIGATED to Carbon Tax because of the {emission} Tonnes Emission of Carbon\")\n",
    "    else:\n",
    "        print(f\"{company} was FREE from Carbon Tax because of the {emission} Tonnes Emisson of Carbon\")\n",
    "\n",
    "\n",
    "\n"
   ]
  },
  {
   "cell_type": "markdown",
   "id": "5ac9b4fe",
   "metadata": {},
   "source": [
    "# Query 2 : Calculate the Carbon Tax\n",
    "## Goal:  calculate Tax Carbon for each company in CSV file based on the carbon produced in 2024\n",
    "### Concept : if-else\n",
    "#### output : Value of Carbon Tax for each Company"
   ]
  },
  {
   "cell_type": "code",
   "execution_count": null,
   "id": "42b2c311",
   "metadata": {},
   "outputs": [
    {
     "name": "stdout",
     "output_type": "stream",
     "text": [
      "PT_Textilindo was OBLIGATED to Carbon Tax of Rp 250000.0 because of 62.5 Tonnes Emission of Carbon\n",
      "PT_Semindo was FREE from Carbon Tax because of the 45.8 Tonnes Emisson of Carbon\n",
      "PT_EnergiJaya was OBLIGATED to Carbon Tax of Rp 564000.0 because of 78.2 Tonnes Emission of Carbon\n",
      "PT_Pulpindo was OBLIGATED to Carbon Tax of Rp 100000.0 because of 55.0 Tonnes Emission of Carbon\n",
      "PT_AgroMakmur was FREE from Carbon Tax because of the 42.3 Tonnes Emisson of Carbon\n",
      "PT_BajaSentosa was OBLIGATED to Carbon Tax of Rp 374000.00000000006 because of 68.7 Tonnes Emission of Carbon\n",
      "PT_KimiaFarindo was FREE from Carbon Tax because of the 49.1 Tonnes Emisson of Carbon\n",
      "PT_MiningCo was OBLIGATED to Carbon Tax of Rp 648000.0000000001 because of 82.4 Tonnes Emission of Carbon\n",
      "PT_PetroJaya was OBLIGATED to Carbon Tax of Rp 217999.99999999997 because of 60.9 Tonnes Emission of Carbon\n",
      "PT_SinarLogam was OBLIGATED to Carbon Tax of Rp 72000.00000000003 because of 53.6 Tonnes Emission of Carbon\n",
      "PT_IndoPlastik was FREE from Carbon Tax because of the 47.2 Tonnes Emisson of Carbon\n",
      "PT_BumiEnergi was OBLIGATED to Carbon Tax of Rp 505999.99999999994 because of 75.3 Tonnes Emission of Carbon\n",
      "PT_TextilMakmur was OBLIGATED to Carbon Tax of Rp 295999.99999999994 because of 64.8 Tonnes Emission of Carbon\n",
      "PT_SemenBerkah was FREE from Carbon Tax because of the 43.5 Tonnes Emisson of Carbon\n",
      "PT_KertasJaya was OBLIGATED to Carbon Tax of Rp 177999.99999999997 because of 58.9 Tonnes Emission of Carbon\n",
      "PT_AgroSentosa was FREE from Carbon Tax because of the 41.7 Tonnes Emisson of Carbon\n",
      "PT_BajaIndo was OBLIGATED to Carbon Tax of Rp 404000.00000000006 because of 70.2 Tonnes Emission of Carbon\n",
      "PT_KimiaJaya was FREE from Carbon Tax because of the 48.4 Tonnes Emisson of Carbon\n",
      "PT_TambangMakmur was OBLIGATED to Carbon Tax of Rp 611999.9999999999 because of 80.6 Tonnes Emission of Carbon\n",
      "PT_PetroMakmur was OBLIGATED to Carbon Tax of Rp 262000.00000000003 because of 63.1 Tonnes Emission of Carbon\n",
      "PT_LogamBerkah was OBLIGATED to Carbon Tax of Rp 85999.99999999994 because of 54.3 Tonnes Emission of Carbon\n",
      "PT_PlastikJaya was FREE from Carbon Tax because of the 46.9 Tonnes Emisson of Carbon\n",
      "PT_EnergiMakmur was OBLIGATED to Carbon Tax of Rp 556000.0 because of 77.8 Tonnes Emission of Carbon\n",
      "PT_TextilBerkah was OBLIGATED to Carbon Tax of Rp 328000.0000000001 because of 66.4 Tonnes Emission of Carbon\n",
      "PT_SemenJaya was FREE from Carbon Tax because of the 44.2 Tonnes Emisson of Carbon\n",
      "PT_KertasMakmur was OBLIGATED to Carbon Tax of Rp 150000.0 because of 57.5 Tonnes Emission of Carbon\n",
      "PT_AgroBerkah was FREE from Carbon Tax because of the 40.8 Tonnes Emisson of Carbon\n",
      "PT_BajaMakmur was OBLIGATED to Carbon Tax of Rp 441999.9999999999 because of 72.1 Tonnes Emission of Carbon\n",
      "PT_KimiaMakmur was OBLIGATED to Carbon Tax of Rp 5999.999999999944 because of 50.3 Tonnes Emission of Carbon\n",
      "PT_TambangJaya was OBLIGATED to Carbon Tax of Rp 714000.0 because of 85.7 Tonnes Emission of Carbon\n"
     ]
    }
   ],
   "source": [
    "import pandas as pd\n",
    "df = pd.read_csv('/Users/deka/GreenEnergy2025/emisi_perusahaan.csv')\n",
    "\n",
    "# According to Goverment Regulation\n",
    "limit = 50\n",
    "tariff = 20000\n",
    "\n",
    "# iteration every line in dataframe to check emission \n",
    "for index, row in df.iterrows():\n",
    "    #the value of emission from Emisi_2024 Column\n",
    "    emission = row['Emisi_2024'] \n",
    "    company = row['Nama_Perusahaan']\n",
    "    # Check if emission  exceed limit by government regulation\n",
    "    if emission > limit:\n",
    "        print(f\"{company} was OBLIGATED to Carbon Tax of Rp {(emission - limit) * tariff} because of {emission} Tonnes Emission of Carbon\")\n",
    "    else:\n",
    "        print(f\"{company} was FREE from Carbon Tax because of the {emission} Tonnes Emisson of Carbon\")\n",
    "        \n",
    "\n"
   ]
  },
  {
   "cell_type": "markdown",
   "id": "5d47a95c",
   "metadata": {},
   "source": [
    "# Query 3 : Save data into list\n",
    "## output : List of company emission "
   ]
  },
  {
   "cell_type": "code",
   "execution_count": 6,
   "id": "521de684",
   "metadata": {},
   "outputs": [
    {
     "name": "stdout",
     "output_type": "stream",
     "text": [
      "Company emission Data :  [62.5, 45.8, 78.2, 55.0, 42.3, 68.7, 49.1, 82.4, 60.9, 53.6, 47.2, 75.3, 64.8, 43.5, 58.9, 41.7, 70.2, 48.4, 80.6, 63.1, 54.3, 46.9, 77.8, 66.4, 44.2, 57.5, 40.8, 72.1, 50.3, 85.7]\n"
     ]
    }
   ],
   "source": [
    "import pandas as pd\n",
    "df = pd.read_csv('/Users/deka/GreenEnergy2025/emisi_perusahaan.csv')\n",
    "# Initiating empty list to save the list\n",
    "emission_list =[]\n",
    "\n",
    "# According to Goverment Regulation\n",
    "limit = 50\n",
    "tariff = 20000\n",
    "\n",
    "# iteration every line in dataframe to check emission \n",
    "for index, row in df.iterrows():\n",
    "    #the value of emission from Emisi_2024 Column\n",
    "    emission = row['Emisi_2024'] \n",
    "    #input value of emission_list with \"append\" command\n",
    "    emission_list.append(emission)\n",
    "#print emission list\n",
    "print(\"Company emission Data : \", emission_list)\n",
    "\n",
    "\n",
    "#    company = row['Nama_Perusahaan']\n",
    "    # Check if emission  exceed limit by government regulation\n",
    " #   if emission > limit:\n",
    "#        print(f\"{company} was OBLIGATED to Carbon Tax of Rp {(emission - limit) * tariff} because of {emission} Tonnes Emission of Carbon\")\n",
    "#    else:\n",
    "#        print(f\"{company} was FREE from Carbon Tax because of the {emission} Tonnes Emisson of Carbon\")\n",
    "        \n"
   ]
  },
  {
   "cell_type": "markdown",
   "id": "243420f4",
   "metadata": {},
   "source": [
    "# Query 4: Emission Compliance Analysis list (LOOKUP in Spreedsheet)\n",
    "## Goal : Company Emission Compliance Check\n",
    "### Output : Carbon Tax Status  \n"
   ]
  },
  {
   "cell_type": "code",
   "execution_count": 8,
   "id": "812ce6a3",
   "metadata": {},
   "outputs": [
    {
     "name": "stdout",
     "output_type": "stream",
     "text": [
      "PT_Textilindo was OBLIGATED to Carbon Tax because of the 62.5 Tonnes Emission of Carbon\n",
      "PT_Semindo was FREE from Carbon Tax because of the 45.8 Tonnes Emisson of Carbon\n",
      "PT_EnergiJaya was OBLIGATED to Carbon Tax because of the 78.2 Tonnes Emission of Carbon\n",
      "PT_Pulpindo was OBLIGATED to Carbon Tax because of the 55.0 Tonnes Emission of Carbon\n",
      "PT_AgroMakmur was FREE from Carbon Tax because of the 42.3 Tonnes Emisson of Carbon\n",
      "PT_BajaSentosa was OBLIGATED to Carbon Tax because of the 68.7 Tonnes Emission of Carbon\n",
      "PT_KimiaFarindo was FREE from Carbon Tax because of the 49.1 Tonnes Emisson of Carbon\n",
      "PT_MiningCo was OBLIGATED to Carbon Tax because of the 82.4 Tonnes Emission of Carbon\n",
      "PT_PetroJaya was OBLIGATED to Carbon Tax because of the 60.9 Tonnes Emission of Carbon\n",
      "PT_SinarLogam was OBLIGATED to Carbon Tax because of the 53.6 Tonnes Emission of Carbon\n",
      "PT_IndoPlastik was FREE from Carbon Tax because of the 47.2 Tonnes Emisson of Carbon\n",
      "PT_BumiEnergi was OBLIGATED to Carbon Tax because of the 75.3 Tonnes Emission of Carbon\n",
      "PT_TextilMakmur was OBLIGATED to Carbon Tax because of the 64.8 Tonnes Emission of Carbon\n",
      "PT_SemenBerkah was FREE from Carbon Tax because of the 43.5 Tonnes Emisson of Carbon\n",
      "PT_KertasJaya was OBLIGATED to Carbon Tax because of the 58.9 Tonnes Emission of Carbon\n",
      "PT_AgroSentosa was FREE from Carbon Tax because of the 41.7 Tonnes Emisson of Carbon\n",
      "PT_BajaIndo was OBLIGATED to Carbon Tax because of the 70.2 Tonnes Emission of Carbon\n",
      "PT_KimiaJaya was FREE from Carbon Tax because of the 48.4 Tonnes Emisson of Carbon\n",
      "PT_TambangMakmur was OBLIGATED to Carbon Tax because of the 80.6 Tonnes Emission of Carbon\n",
      "PT_PetroMakmur was OBLIGATED to Carbon Tax because of the 63.1 Tonnes Emission of Carbon\n",
      "PT_LogamBerkah was OBLIGATED to Carbon Tax because of the 54.3 Tonnes Emission of Carbon\n",
      "PT_PlastikJaya was FREE from Carbon Tax because of the 46.9 Tonnes Emisson of Carbon\n",
      "PT_EnergiMakmur was OBLIGATED to Carbon Tax because of the 77.8 Tonnes Emission of Carbon\n",
      "PT_TextilBerkah was OBLIGATED to Carbon Tax because of the 66.4 Tonnes Emission of Carbon\n",
      "PT_SemenJaya was FREE from Carbon Tax because of the 44.2 Tonnes Emisson of Carbon\n",
      "PT_KertasMakmur was OBLIGATED to Carbon Tax because of the 57.5 Tonnes Emission of Carbon\n",
      "PT_AgroBerkah was FREE from Carbon Tax because of the 40.8 Tonnes Emisson of Carbon\n",
      "PT_BajaMakmur was OBLIGATED to Carbon Tax because of the 72.1 Tonnes Emission of Carbon\n",
      "PT_KimiaMakmur was OBLIGATED to Carbon Tax because of the 50.3 Tonnes Emission of Carbon\n",
      "PT_TambangJaya was OBLIGATED to Carbon Tax because of the 85.7 Tonnes Emission of Carbon\n"
     ]
    }
   ],
   "source": [
    "import pandas as pd\n",
    "df = pd.read_csv('/Users/deka/GreenEnergy2025/emisi_perusahaan.csv')\n",
    "# Initiating empty list to save the list\n",
    "emission_list =[]\n",
    "\n",
    "# According to Goverment Regulation\n",
    "limit = 50\n",
    "tariff = 20000\n",
    "\n",
    "# iteration every line in dataframe to check emission \n",
    "for index, row in df.iterrows():\n",
    "    #the value of emission from Emisi_2024 Column\n",
    "    emission = row['Emisi_2024'] \n",
    "    #input value of emission_list with \"append\" command\n",
    "    emission_list.append(emission)\n",
    "\n",
    "#iteration  emission list for compliance \n",
    "for i, emission in enumerate(emission_list):\n",
    "    company = df.iloc[i]['Nama_Perusahaan']\n",
    "    \n",
    "    # Check if emission  exceed limit by government regulation\n",
    "    if emission > limit:\n",
    "        print(f\"{company} was OBLIGATED to Carbon Tax because of the {emission} Tonnes Emission of Carbon\")\n",
    "    else:\n",
    "        print(f\"{company} was FREE from Carbon Tax because of the {emission} Tonnes Emisson of Carbon\")\n",
    "\n"
   ]
  },
  {
   "cell_type": "markdown",
   "id": "e843285c",
   "metadata": {},
   "source": [
    "# Query 5 : How to save Emission Data in Dictionary\n",
    "#### Outpus : Dictionary containing Company emission data"
   ]
  },
  {
   "cell_type": "code",
   "execution_count": null,
   "id": "99523b44",
   "metadata": {},
   "outputs": [
    {
     "ename": "KeyError",
     "evalue": "'PT_Textilindo'",
     "output_type": "error",
     "traceback": [
      "\u001b[31m---------------------------------------------------------------------------\u001b[39m",
      "\u001b[31mKeyError\u001b[39m                                  Traceback (most recent call last)",
      "\u001b[36mCell\u001b[39m\u001b[36m \u001b[39m\u001b[32mIn[25]\u001b[39m\u001b[32m, line 19\u001b[39m\n\u001b[32m     16\u001b[39m     company = row[\u001b[33m'\u001b[39m\u001b[33mNama_Perusahaan\u001b[39m\u001b[33m'\u001b[39m]\n\u001b[32m     17\u001b[39m     \u001b[38;5;66;03m#input value of emission_list with \"append\" command\u001b[39;00m\n\u001b[32m---> \u001b[39m\u001b[32m19\u001b[39m     \u001b[43memission_dict\u001b[49m\u001b[43m[\u001b[49m\u001b[43mcompany\u001b[49m\u001b[43m]\u001b[49m == emission\n\u001b[32m     20\u001b[39m \u001b[38;5;66;03m#print emission list\u001b[39;00m\n\u001b[32m     21\u001b[39m \u001b[38;5;28mprint\u001b[39m(\u001b[33m\"\u001b[39m\u001b[33mCompany emission Data : \u001b[39m\u001b[33m\"\u001b[39m, emission_dict)\n",
      "\u001b[31mKeyError\u001b[39m: 'PT_Textilindo'"
     ]
    }
   ],
   "source": [
    "import pandas as pd\n",
    "df = pd.read_csv('/Users/deka/GreenEnergy2025/emisi_perusahaan.csv')\n",
    "\n",
    "# Initiating Dictionary list to save the list\n",
    "emission_dict ={}\n",
    "\n",
    "\n",
    "# According to Goverment Regulation\n",
    "limit = 50\n",
    "tariff = 20000\n",
    "\n",
    "# iteration every line in dataframe to check emission \n",
    "for index, row in df.iterrows():\n",
    "    #the value of emission from Emisi_2024 Column\n",
    "    emission = row['Emisi_2024'] \n",
    "    company = row['Nama_Perusahaan']\n",
    "    #input value of emission_list with \"append\" command\n",
    "   \n",
    "    emission_dict[company] = emission\n",
    "#print emission list\n",
    "print(\"Company emission Data : \", emission_dict)"
   ]
  },
  {
   "cell_type": "code",
   "execution_count": null,
   "id": "00f13428",
   "metadata": {},
   "outputs": [],
   "source": []
  },
  {
   "cell_type": "code",
   "execution_count": null,
   "id": "9062b346",
   "metadata": {},
   "outputs": [],
   "source": []
  },
  {
   "cell_type": "code",
   "execution_count": null,
   "id": "47b9bd37",
   "metadata": {},
   "outputs": [],
   "source": []
  },
  {
   "cell_type": "code",
   "execution_count": null,
   "id": "73df1d99",
   "metadata": {},
   "outputs": [],
   "source": []
  },
  {
   "cell_type": "markdown",
   "id": "ff0450f9",
   "metadata": {},
   "source": [
    "# Query 6 : Greenwashing Status"
   ]
  },
  {
   "cell_type": "code",
   "execution_count": 20,
   "id": "553ca6a5",
   "metadata": {},
   "outputs": [
    {
     "ename": "NameError",
     "evalue": "name 'green_claim' is not defined",
     "output_type": "error",
     "traceback": [
      "\u001b[31m---------------------------------------------------------------------------\u001b[39m",
      "\u001b[31mNameError\u001b[39m                                 Traceback (most recent call last)",
      "\u001b[36mCell\u001b[39m\u001b[36m \u001b[39m\u001b[32mIn[20]\u001b[39m\u001b[32m, line 23\u001b[39m\n\u001b[32m     20\u001b[39m \u001b[38;5;28;01mfor\u001b[39;00m company, data \u001b[38;5;129;01min\u001b[39;00m emission_dict.items():\n\u001b[32m     21\u001b[39m     \u001b[38;5;66;03m#check if company claim green but carbon produce >50 Tonnes\u001b[39;00m\n\u001b[32m     22\u001b[39m     \u001b[38;5;28;01mif\u001b[39;00m data[\u001b[33m'\u001b[39m\u001b[33mgreen_claim\u001b[39m\u001b[33m'\u001b[39m] == \u001b[33m'\u001b[39m\u001b[33mya\u001b[39m\u001b[33m'\u001b[39m \u001b[38;5;129;01mand\u001b[39;00m data[\u001b[33m'\u001b[39m\u001b[33memission\u001b[39m\u001b[33m'\u001b[39m] > \u001b[32m50\u001b[39m:\n\u001b[32m---> \u001b[39m\u001b[32m23\u001b[39m         \u001b[38;5;28mprint\u001b[39m(\u001b[33mf\u001b[39m\u001b[33m\"\u001b[39m\u001b[38;5;132;01m{\u001b[39;00mcompany\u001b[38;5;132;01m}\u001b[39;00m\u001b[33m was detected performing GREENWASHIN with emission of \u001b[39m\u001b[38;5;132;01m{\u001b[39;00memission\u001b[38;5;132;01m}\u001b[39;00m\u001b[33m tonnes in 2024 and Claiming \u001b[39m\u001b[38;5;132;01m{\u001b[39;00m\u001b[43mgreen_claim\u001b[49m\u001b[38;5;132;01m}\u001b[39;00m\u001b[33m on Green Practice\u001b[39m\u001b[33m\"\u001b[39m)\n\u001b[32m     24\u001b[39m     \u001b[38;5;28;01melse\u001b[39;00m:\n\u001b[32m     25\u001b[39m         \u001b[38;5;28mprint\u001b[39m(\u001b[33mf\u001b[39m\u001b[33m\"\u001b[39m\u001b[38;5;132;01m{\u001b[39;00mcompany\u001b[38;5;132;01m}\u001b[39;00m\u001b[33m was NOT Performing Greenwashing, emissions produced were \u001b[39m\u001b[38;5;132;01m{\u001b[39;00memission\u001b[38;5;132;01m}\u001b[39;00m\u001b[33m tonnes of carbon in 2024 \u001b[39m\u001b[33m\"\u001b[39m)\n",
      "\u001b[31mNameError\u001b[39m: name 'green_claim' is not defined"
     ]
    }
   ],
   "source": [
    "import pandas as pd\n",
    "df = pd.read_csv('/Users/deka/GreenEnergy2025/emisi_perusahaan.csv')\n",
    "\n",
    "# Initiating Dictionary list to save the list\n",
    "emission_dict ={}\n",
    "\n",
    "# ITeration every rows\n",
    "for index, row in df.iterrows():\n",
    "    #Company name as dictionary key\n",
    "    company = row['Nama_Perusahaan']\n",
    "    #save Emission and claim in dictionary\n",
    "    emission_dict[company] = {\n",
    "            'emission' : row['Emisi_2024'],\n",
    "            'green_claim' : row['Klaim_Hijau']\n",
    "    }\n",
    "\n",
    "# Green washing Detection\n",
    "# Dictionary iteration to check greenwashing\n",
    "\n",
    "for company, data in emission_dict.items():\n",
    "    #check if company claim green but carbon produce >50 Tonnes\n",
    "    if data['green_claim'] == 'ya' and data['emission'] > 50:\n",
    "        print(f\"{company} was detected performing GREENWASHIN with emission of {emission} tonnes in 2024 and Claiming {green_claim} on Green Practice\")\n",
    "    else:\n",
    "        print(f\"{company} was NOT Performing Greenwashing, emissions produced were {emission} tonnes of carbon in 2024 \")\n",
    "        \n",
    "\n",
    "\n"
   ]
  },
  {
   "cell_type": "code",
   "execution_count": null,
   "id": "78550a1d",
   "metadata": {},
   "outputs": [],
   "source": []
  },
  {
   "cell_type": "code",
   "execution_count": null,
   "id": "742e797c",
   "metadata": {},
   "outputs": [],
   "source": []
  },
  {
   "cell_type": "code",
   "execution_count": null,
   "id": "1e7a6f61",
   "metadata": {},
   "outputs": [],
   "source": []
  },
  {
   "cell_type": "code",
   "execution_count": null,
   "id": "e7353443",
   "metadata": {},
   "outputs": [],
   "source": []
  }
 ],
 "metadata": {
  "kernelspec": {
   "display_name": "green_energy",
   "language": "python",
   "name": "python3"
  },
  "language_info": {
   "codemirror_mode": {
    "name": "ipython",
    "version": 3
   },
   "file_extension": ".py",
   "mimetype": "text/x-python",
   "name": "python",
   "nbconvert_exporter": "python",
   "pygments_lexer": "ipython3",
   "version": "3.12.11"
  }
 },
 "nbformat": 4,
 "nbformat_minor": 5
}
